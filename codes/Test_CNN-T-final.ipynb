{
 "cells": [
  {
   "cell_type": "code",
   "execution_count": 1,
   "metadata": {
    "collapsed": true
   },
   "outputs": [
    {
     "name": "stderr",
     "output_type": "stream",
     "text": [ 
     ]
    }
   ],
   "source": [
    "import os\n",
    "import sys \n",
    "import numpy as np \n",
    "import tensorflow as tf\n",
    "import operator"
   ]
  },
  {
   "cell_type": "code",
   "execution_count": 5,
   "metadata": {},
   "outputs": [],
   "source": [
    "def load_model(session, save_path):\n",
    "    \"\"\" Loads a saved TF model from a file.Returns:The inputs placehoder and the prediction operation. \"\"\"\n",
    "    print(\"Loading model from file '%s'...\" % (save_path))\n",
    "    meta_file = save_path + \".meta\"\n",
    "    if not os.path.exists(meta_file):\n",
    "        print(\"ERROR: Expected .meta file '%s', but could not find it.\" % \\\n",
    "        (meta_file))\n",
    "        sys.exit(1) \n",
    "    saver = tf.train.import_meta_graph(meta_file)\n",
    "    save_path = os.path.join(\"./\", save_path)\n",
    "    saver.restore(session, save_path)  \n",
    "    return extract_validation_handles(session)\n",
    "    \n",
    "\n",
    "def load_validation_data(rootpath, model=1):\n",
    "    global batch_size \n",
    "    \"\"\" Loads the validation data,  Returns: A tuple of the loaded validation data and validation labels. \"\"\"\n",
    "    print(\"Loading validation data...\") \n",
    "    if model ==1:\n",
    "        testX  =np.load(os.path.join(rootpath, 'testX_pred.npy') ) \n",
    "        testY  =np.load(os.path.join(rootpath, 'testY_pred.npy'))  \n",
    "    elif model==2:\n",
    "        testX  =np.load(os.path.join(rootpath, 'testX_no.npy') ) \n",
    "        testY  =np.load(os.path.join(rootpath, 'testY_no.npy'))  \n",
    "    if testX.shape[1]!= 214:\n",
    "        testX = np.transpose(testX,[0,2,1])\n",
    "        testX = np.expand_dims(testX,3) \n",
    "    batch_size =np.shape(testX)[0]    \n",
    "    return (testX,testY )  \n",
    "\n",
    "def validate_model(session, val_data, x, y,  phase_train,prob): \n",
    "    \"\"\" Validates the model stored in a session.Returns:The overall validation accuracy for the model. \"\"\"\n",
    "    global batch_size\n",
    "    print(\"Validating model...\") \n",
    "    predict_op = tf.argmax(prob, 1)\n",
    "    correct = tf.equal(predict_op,tf.argmax(y, 1))\n",
    "    acc= tf.reduce_mean(tf.cast(correct, tf.float32))  \n",
    "    val_x, val_y  = val_data\n",
    "    test_correct = session.run(correct,feed_dict ={x: val_x,  y:val_y, phase_train: True})\n",
    "    test_acc = session.run(acc,feed_dict ={x: val_x, y:val_y, phase_train: True})\n",
    "    return test_acc, test_correct \n",
    " \n",
    "def extract_validation_handles(session):\n",
    "    \"\"\" Extracts the input and predict_op handles that we use for validation.\n",
    "    Args:\n",
    "      session: The session with the loaded graph.\n",
    "    Returns:\n",
    "      The inputs placeholder, mask placeholder, and the prediction operation. \"\"\" \n",
    "    valid_nodes = tf.get_collection_ref(\"validation_nodes\") \n",
    "    '''if len(valid_nodes) != 4:\n",
    "        print(\"ERROR: Expected 4 items in validation_nodes, got %d.\" %(len(valid_nodes)))\n",
    "        sys.exit(1) ''' \n",
    "    x = valid_nodes[0] \n",
    "    y = valid_nodes[1] \n",
    "    phase_train =valid_nodes[2]\n",
    "    prob =  valid_nodes[3]\n",
    "    global batch_size  \n",
    "    return (x,y,  phase_train,prob)\n",
    "\n",
    "def each_perform(correct_results,eval_labels ):\n",
    "    label_y=np.argmax(eval_labels,1)\n",
    "    acc = []\n",
    "    \n",
    "    zero = np.where(label_y==0)\n",
    "    correctl=[correct_results[i] for i in zero]\n",
    "    accuracy_zero=1-np.mean(correctl)\n",
    "    acc.append(accuracy_zero)\n",
    "    \n",
    "    one = np.where(label_y==1)\n",
    "    correctg=[correct_results[i] for i in one]\n",
    "    accuracy_one=1-np.mean(correctg)\n",
    "    acc.append(accuracy_one)\n",
    "    \n",
    "    two = np.where(label_y==2)\n",
    "    correctt=[correct_results[i] for i in two]\n",
    "    accuracy_two=1-np.mean(correctt) \n",
    "    acc.append(accuracy_two)  \n",
    "    return acc, correctl,correctg,correctt \n",
    "def reset():\n",
    "    tf.reset_default_graph()"
   ]
  },
  {
   "cell_type": "code",
   "execution_count": 11,
   "metadata": {
    "scrolled": false
   },
   "outputs": [
    {
     "name": "stdout",
     "output_type": "stream",
     "text": [
      "Loading model from file 'C:/07_research/14_successive_events/codes/saved_models/ModelC/modelC_fully'...\n",
      "INFO:tensorflow:Restoring parameters from C:/07_research/14_successive_events/codes/saved_models/ModelC/modelC_fully\n",
      "Loading validation data...\n",
      "Validating model...\n",
      "Overall validation accuracy is 0.715210 \n",
      "\n",
      "LT: 72.16494845360825\n",
      "GT: 63.366336633663366\n",
      "TP: 78.37837837837837\n",
      "71.52103559870551\n"
     ]
    }
   ],
   "source": [
    "batch_size =50  \n",
    "model =1# model = 1: SP process; model = 2: NS process \n",
    "root = '/data/test/time_series_data'\n",
    "save_path = '/codes/saved_models/ModelC/modelC_fully' \n",
    "testname = 'one_sec'  # choose from{  total,one_sec,two_sec, half_sec, one_half_sec } \n",
    "rootpath = os.path.join(root, testname) \n",
    "with tf.Session() as session:   \n",
    "    x, y,phase_train,prob  = load_model(session, save_path)\n",
    "    val_data = load_validation_data(rootpath, model = model) \n",
    "    accuracy ,correct_results= validate_model(session, val_data, x,y, phase_train,prob) \n",
    "    print (\"Overall validation accuracy is %f \\n\" %(accuracy))\n",
    "    acc,correct_l,correct_g,correct_t = each_perform(correct_results,val_data[1] )  \n",
    "    session.close()     \n",
    "id_True =  np.nonzero(correct_results==True) \n",
    "overall_acc = (len(id_True[0])/len(correct_results))    \n",
    "print ('LT:', 100*np.mean( correct_l))\n",
    "print ('GT:', 100*np.mean( correct_g))\n",
    "print ('TP:', 100*np.mean( correct_t)) \n",
    "print (  100*overall_acc)  "
   ]
  },
  {
   "cell_type": "code",
   "execution_count": null,
   "metadata": {},
   "outputs": [],
   "source": []
  }
 ],
 "metadata": {
  "kernelspec": {
   "display_name": "Python 3",
   "language": "python",
   "name": "python3"
  },
  "language_info": {
   "codemirror_mode": {
    "name": "ipython",
    "version": 3
   },
   "file_extension": ".py",
   "mimetype": "text/x-python",
   "name": "python",
   "nbconvert_exporter": "python",
   "pygments_lexer": "ipython3",
   "version": "3.5.5"
  }
 },
 "nbformat": 4,
 "nbformat_minor": 2
}
